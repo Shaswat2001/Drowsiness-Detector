{
 "cells": [
  {
   "cell_type": "code",
   "execution_count": 1,
   "metadata": {},
   "outputs": [],
   "source": [
    "import h5py\n",
    "import numpy as np\n",
    "import tensorflow as tf"
   ]
  },
  {
   "cell_type": "code",
   "execution_count": 2,
   "metadata": {},
   "outputs": [],
   "source": [
    "def load_dataset():\n",
    "    \n",
    "    hf=h5py.File(\"image_final.h5\",'r')\n",
    "    X_train_orig=np.array(hf.get(\"X_train_orig\"))\n",
    "    X_test_orig=np.array(hf.get(\"X_test_orig\"))\n",
    "    Y_train_orig=np.array(hf.get(\"Y_train_orig\"))\n",
    "    Y_test_orig=np.array(hf.get(\"Y_test_orig\"))\n",
    "    \n",
    "    Y_train_orig=Y_train_orig.reshape(Y_train_orig.shape[0],1)\n",
    "    Y_test_orig=Y_test_orig.reshape(Y_test_orig.shape[0],1)\n",
    "    \n",
    "    hf.close()\n",
    "    \n",
    "    return X_train_orig,X_test_orig,Y_train_orig,Y_test_orig"
   ]
  },
  {
   "cell_type": "code",
   "execution_count": 3,
   "metadata": {},
   "outputs": [
    {
     "name": "stderr",
     "output_type": "stream",
     "text": [
      "Using TensorFlow backend.\n"
     ]
    }
   ],
   "source": [
    "from keras import layers\n",
    "from keras.layers import Input, Add, Dense, Activation, ZeroPadding2D, BatchNormalization, Flatten, Conv2D, AveragePooling2D, MaxPooling2D, GlobalMaxPooling2D\n",
    "from keras.models import Model, load_model\n",
    "from keras.preprocessing import image\n",
    "from keras.utils import layer_utils\n",
    "from keras.utils.data_utils import get_file\n",
    "from keras.applications.imagenet_utils import preprocess_input\n",
    "from keras.utils.vis_utils import model_to_dot\n",
    "from keras.utils import plot_model\n",
    "from keras.initializers import glorot_uniform\n",
    "import scipy.misc\n",
    "\n",
    "from keras.layers import Dropout\n",
    "from matplotlib.pyplot import imshow\n",
    "%matplotlib inline\n",
    "\n",
    "import keras.backend as K\n",
    "K.set_image_data_format('channels_last')\n",
    "K.set_learning_phase(1)"
   ]
  },
  {
   "cell_type": "code",
   "execution_count": 4,
   "metadata": {},
   "outputs": [],
   "source": [
    "def model_nn(input_shape=(64,64,1)):\n",
    "    \n",
    "    X_input=Input(input_shape)\n",
    "    X=Conv2D(32, kernel_size=(3, 3), activation='relu', input_shape=(64,64,1))(X_input)\n",
    "    X=MaxPooling2D(pool_size=(1,1))(X)\n",
    "    X=Conv2D(32,(3,3),activation='relu')(X)\n",
    "    X=MaxPooling2D(pool_size=(1,1))(X)\n",
    "#32 convolution filters used each of size 3x3\n",
    "#again\n",
    "    X=Conv2D(64, (3, 3), activation='relu')(X)\n",
    "    X=MaxPooling2D(pool_size=(1,1))(X)\n",
    "\n",
    "#64 convolution filters used each of size 3x3\n",
    "#choose the best features via pooling\n",
    "    \n",
    "#randomly turn neurons on and off to improve convergence\n",
    "    X=Dropout(0.25)(X)\n",
    "#flatten since too many dimensions, we only want a classification output\n",
    "    X=Flatten()(X)\n",
    "#fully connected to get all relevant data\n",
    "    X=Dense(128, activation='relu')(X)\n",
    "#one more dropout for convergence' sake :) \n",
    "    X=Dropout(0.5)(X)\n",
    "#output a softmax to squash the matrix into output probabilities\n",
    "    X=Dense(1, activation='sigmoid')(X)\n",
    "    model = Model(inputs = X_input, outputs = X, name='ResNet50')\n",
    "    \n",
    "    return model"
   ]
  },
  {
   "cell_type": "code",
   "execution_count": 5,
   "metadata": {},
   "outputs": [],
   "source": [
    "model =model_nn(input_shape = (64, 64, 1))"
   ]
  },
  {
   "cell_type": "code",
   "execution_count": 6,
   "metadata": {},
   "outputs": [],
   "source": [
    "model.compile(optimizer='adam', loss='binary_crossentropy', metrics=['accuracy'])"
   ]
  },
  {
   "cell_type": "code",
   "execution_count": 7,
   "metadata": {},
   "outputs": [],
   "source": [
    "X_train_orig, X_test_orig, Y_train, Y_test = load_dataset()\n",
    "\n",
    "# Normalize image vectors\n",
    "X_train = X_train_orig/255.\n",
    "X_test = X_test_orig/255."
   ]
  },
  {
   "cell_type": "code",
   "execution_count": 8,
   "metadata": {},
   "outputs": [
    {
     "name": "stdout",
     "output_type": "stream",
     "text": [
      "Epoch 1/15\n",
      "83201/83201 [==============================] - 1982s 24ms/step - loss: 0.1945 - accuracy: 0.9244\n",
      "Epoch 2/15\n",
      "83201/83201 [==============================] - 2039s 25ms/step - loss: 0.1049 - accuracy: 0.9635\n",
      "Epoch 3/15\n",
      "83201/83201 [==============================] - 1905s 23ms/step - loss: 0.0784 - accuracy: 0.9728\n",
      "Epoch 4/15\n",
      "83201/83201 [==============================] - 1895s 23ms/step - loss: 0.0690 - accuracy: 0.9761\n",
      "Epoch 5/15\n",
      "83201/83201 [==============================] - 1900s 23ms/step - loss: 0.0581 - accuracy: 0.9800\n",
      "Epoch 6/15\n",
      "83201/83201 [==============================] - 1948s 23ms/step - loss: 0.0523 - accuracy: 0.9814\n",
      "Epoch 7/15\n",
      "83201/83201 [==============================] - 2151s 26ms/step - loss: 0.0477 - accuracy: 0.9828\n",
      "Epoch 8/15\n",
      "83201/83201 [==============================] - 1985s 24ms/step - loss: 0.0401 - accuracy: 0.9860\n",
      "Epoch 9/15\n",
      "83201/83201 [==============================] - 1993s 24ms/step - loss: 0.0385 - accuracy: 0.9859\n",
      "Epoch 10/15\n",
      "83201/83201 [==============================] - 1990s 24ms/step - loss: 0.0342 - accuracy: 0.9874\n",
      "Epoch 11/15\n",
      "83201/83201 [==============================] - 2108s 25ms/step - loss: 0.0323 - accuracy: 0.9880\n",
      "Epoch 12/15\n",
      "83201/83201 [==============================] - 1985s 24ms/step - loss: 0.0300 - accuracy: 0.9895\n",
      "Epoch 13/15\n",
      "83201/83201 [==============================] - 1975s 24ms/step - loss: 0.0279 - accuracy: 0.9902\n",
      "Epoch 14/15\n",
      "83201/83201 [==============================] - 1972s 24ms/step - loss: 0.0264 - accuracy: 0.9903\n",
      "Epoch 15/15\n",
      "83201/83201 [==============================] - 3495s 42ms/step - loss: 0.0238 - accuracy: 0.9915\n"
     ]
    },
    {
     "data": {
      "text/plain": [
       "<keras.callbacks.callbacks.History at 0x136aa0d1b00>"
      ]
     },
     "execution_count": 8,
     "metadata": {},
     "output_type": "execute_result"
    }
   ],
   "source": [
    "model.fit(X_train, Y_train, epochs = 15, batch_size = 32)"
   ]
  },
  {
   "cell_type": "code",
   "execution_count": 9,
   "metadata": {},
   "outputs": [],
   "source": [
    "y_pred=model.predict(X_test)"
   ]
  },
  {
   "cell_type": "code",
   "execution_count": 11,
   "metadata": {},
   "outputs": [
    {
     "data": {
      "text/plain": [
       "(1697, 1)"
      ]
     },
     "execution_count": 11,
     "metadata": {},
     "output_type": "execute_result"
    }
   ],
   "source": [
    "y_pred.shape"
   ]
  },
  {
   "cell_type": "code",
   "execution_count": 11,
   "metadata": {},
   "outputs": [],
   "source": [
    "from sklearn.metrics import confusion_matrix as cf"
   ]
  },
  {
   "cell_type": "code",
   "execution_count": 12,
   "metadata": {},
   "outputs": [
    {
     "data": {
      "text/plain": [
       "array([[827,  11],\n",
       "       [ 16, 843]], dtype=int64)"
      ]
     },
     "execution_count": 12,
     "metadata": {},
     "output_type": "execute_result"
    }
   ],
   "source": [
    "cf(Y_test,y_pred)"
   ]
  },
  {
   "cell_type": "code",
   "execution_count": 10,
   "metadata": {},
   "outputs": [],
   "source": [
    "y_pred=(y_pred>0.5)"
   ]
  },
  {
   "cell_type": "code",
   "execution_count": 15,
   "metadata": {},
   "outputs": [],
   "source": [
    "model.save('models/cnnCat2.h5', overwrite=True)"
   ]
  },
  {
   "cell_type": "code",
   "execution_count": null,
   "metadata": {},
   "outputs": [],
   "source": []
  }
 ],
 "metadata": {
  "kernelspec": {
   "display_name": "Python 3",
   "language": "python",
   "name": "python3"
  },
  "language_info": {
   "codemirror_mode": {
    "name": "ipython",
    "version": 3
   },
   "file_extension": ".py",
   "mimetype": "text/x-python",
   "name": "python",
   "nbconvert_exporter": "python",
   "pygments_lexer": "ipython3",
   "version": "3.7.3"
  }
 },
 "nbformat": 4,
 "nbformat_minor": 4
}
